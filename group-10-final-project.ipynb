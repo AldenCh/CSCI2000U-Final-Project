{
 "cells": [
  {
   "cell_type": "markdown",
   "id": "3a8e6dc1",
   "metadata": {},
   "source": [
    "# <span style=\"color:blue\"> Scientific Data Analysis Final Project </span>\n",
    "\n",
    "**Project Group #:** &nbsp;&nbsp;&nbsp;&nbsp;&nbsp;&nbsp;&nbsp;10<br>\n",
    "**Group Members:** &nbsp;&nbsp;&nbsp;&nbsp;&nbsp;&nbsp;Saffron Birch(100795118), Victor Ma(100789474), Nicholas Panait(100776699), and Ji Long Alden Chan(100783638)<br><br>\n",
    "\n",
    "## <span style=\"color:blue\"> Introduction: </span>\n",
    "**Why did you choose this dataset over others?**<br>\n",
    ">The main reason why we choose this dataset over others was because the dataset is on a topic that we found interesting. This combined with the fact that the dataset contains 20058 points of data with 16 attributes, makes it a very useful dataset for analysis. Another reason we choose to do a dataset on chess rather than something else is the value of data analysis in something as complex as chess. In chess, there is more variation the more moves you make, because of this it is easy to see which moves are better earlier on.\n",
    "\n",
    "**What are the data analysis questions you want to use this dataset for?**<br>\n",
    ">1. Are the chances of winning the game greater if you are playing white? If so, why is that?\n",
    "\n",
    ">2. Does the number of moves affect the outcome of the game? If the number of moves played goes over the average number of moves, what is the most likely outcome of the match? What if the number of moves is below average?\n",
    "\n",
    ">3. How do the following victory statuses correlate with rating? Find the correlation coefficient and determine whether the relationship is strong/weak and positive/negative. What conclusions can be drawn from the data collected?<br>\n",
    ">  a) Checkmate<br>\n",
    ">  b) Resignation<br>\n",
    ">  c) Timeout <br>\n",
    "\n",
    ">4. List the top 5 highest win rate openings, what are their win rates? Do their win rates vary depending on piece colour? List the top 5 players that use the combination of these openings the most, what are their win rates and rating? What conclusions can be drawn from the data collected? \n",
    "\n",
    ">5. What is the relationship between the least and most common chess openings and their play rates? Does the trend indicate increasing or decreasing volatility in victory results? What conclusions can be drawn from the data collected?\n",
    "\n",
    ">6. Is there a correlation between how many variations an opening has and how often it is played? \n",
    "\n",
    "**What did each team member do?**\n",
    "\n",
    "## <span style=\"color:blue\"> Description of the Data: </span>\n",
    "**Dataset Link:** &nbsp;&nbsp;&nbsp;&nbsp;&nbsp;&nbsp;&nbsp;&nbsp;&nbsp;&nbsp;&nbsp;&nbsp; https://www.kaggle.com/datasnaek/chess/<br>\n",
    "**Dataset Name:** &nbsp;&nbsp;&nbsp;&nbsp;&nbsp;&nbsp;&nbsp;&nbsp;&nbsp;&nbsp;Chess Game Dataset(Lichess)<br>\n",
    "**Dataset Description:** This dataset holds the records of over 20000 games of chess played on [Lichess](https://lichess.org/) collected using the [Lichess API](https://github.com/ornicar/lila).<br>\n",
    "**Dataset Attributes:** <br>\n",
    ">**id** : The ID associated with the game in Lichess's database of games.<br>\n",
    ">**rated** : Whether the game played was casual or worth rating.<br>\n",
    ">**created_at** : The time in seconds that the game was created.<br>\n",
    ">**last_move_at** : The time in seconds that the last move of the game was played and it finished.<br>\n",
    ">**turns** : The total number of turns played in the game.<br>\n",
    ">**victory_status** : How the game was won, by timeout, checkmate, resignation or if it was a draw.<br>\n",
    ">**winner** : The colour pieces won the match or whether it was a draw.<br>\n",
    ">**increment_code** : The time alloted for the match in the form: *Time limit per side in minutes* : *Seconds added to the time limit per move*.<br>\n",
    ">**white_id** : The username of the person playing white.<br>\n",
    ">**white_rating** : The rating of the person playing white.<br>\n",
    ">**black_id** : The username of the person playing black.<br>\n",
    ">**black_rating** : The rating of the person playing black.<br>\n",
    ">**moves** : The moves played during that game in standard chess notation.<br>\n",
    ">**opening_eco** : The unique standardized code given to every opening.<br>\n",
    ">**opening_name** : The name of the opening played.<br>\n",
    ">**opening_ply** : The number of moves in this specific opening.<br>"
   ]
  },
  {
   "cell_type": "code",
   "execution_count": 1,
   "id": "8dfd8e84",
   "metadata": {},
   "outputs": [],
   "source": [
    "import csv\n",
    "import re\n",
    "from functools import reduce\n",
    "import numpy as np\n",
    "import pandas as pd\n",
    "import matplotlib.pyplot as plt\n",
    "\n",
    "# this aux function reads the CSV file and returns the data in a Python dictionary\n",
    "def get_data_csv():\n",
    "    collection = []\n",
    "    with open('games.csv', 'r') as f:\n",
    "        for line in csv.DictReader(f):\n",
    "            collection.append(line)\n",
    "        return collection\n",
    "        \n",
    "# the data    \n",
    "data = get_data_csv()"
   ]
  },
  {
   "cell_type": "markdown",
   "id": "d6f85f16",
   "metadata": {},
   "source": [
    "## <span style=\"color:blue\"> Cleaning and Preprocessing of Data:</span>"
   ]
  },
  {
   "cell_type": "markdown",
   "id": "8c246ff9",
   "metadata": {},
   "source": [
    "**Unrated games are not qualitative games as you could have people testing things out or having fun and thus may skew results or act as outliers so we will remove them.**\n",
    "> How many of these games were rated?<br>\n",
    "> How many of these games were unrated?"
   ]
  },
  {
   "cell_type": "code",
   "execution_count": 2,
   "id": "f42bb1c5",
   "metadata": {},
   "outputs": [
    {
     "name": "stdout",
     "output_type": "stream",
     "text": [
      "16155 games were rated.\n",
      "3903 games were unrated.\n",
      "Number of games left after removing unrated games: 16155\n"
     ]
    }
   ],
   "source": [
    "rated_games = list(filter(lambda x : x[\"rated\"] == \"TRUE\" or x[\"rated\"] == \"True\", data))\n",
    "print(str(len(rated_games)) + \" games were rated.\")\n",
    "unrated_games = list(filter(lambda x : x[\"rated\"] == \"FALSE\" or x[\"rated\"] == \"False\", data))\n",
    "print(str(len(unrated_games)) + \" games were unrated.\")\n",
    "# Remove unrated as the quality of the games is low\n",
    "data = rated_games\n",
    "print(\"Number of games left after removing unrated games: \"+str(len(data)))"
   ]
  },
  {
   "cell_type": "markdown",
   "id": "50e79831",
   "metadata": {},
   "source": [
    "**Games with large rating differences are also not qualitative games as someone more skilled could play pretty much any opening and still win simply because the skill gap is too large**."
   ]
  },
  {
   "cell_type": "code",
   "execution_count": 3,
   "id": "18838f86",
   "metadata": {},
   "outputs": [
    {
     "name": "stdout",
     "output_type": "stream",
     "text": [
      "Number of games left after processing rating gap: 15451\n"
     ]
    }
   ],
   "source": [
    "# Remove games with a rating gap of more than 500\n",
    "data = list(filter(lambda x: int(x[\"white_rating\"])-int(x[\"black_rating\"]) >= -500 and int(x[\"white_rating\"])-int(x[\"black_rating\"]) <= 500, data))\n",
    "print(\"Number of games left after processing rating gap: \"+str(len(data)))"
   ]
  },
  {
   "cell_type": "markdown",
   "id": "11dd7769",
   "metadata": {},
   "source": [
    "**There are odd cases in the dataset where the capitalizaiton of the strings are not consistent so we will lowercase all strings to make them easier to analyze.**"
   ]
  },
  {
   "cell_type": "code",
   "execution_count": 4,
   "id": "6538c9c6",
   "metadata": {},
   "outputs": [
    {
     "data": {
      "text/plain": [
       "<map at 0x7f82d47207f0>"
      ]
     },
     "execution_count": 4,
     "metadata": {},
     "output_type": "execute_result"
    }
   ],
   "source": [
    "# Lowercase all of victory status and winner for easier processing\n",
    "map(lambda x: x[\"winner\"], data)\n",
    "map(lambda x: x[\"victory_status\"].lower(), data)"
   ]
  },
  {
   "cell_type": "markdown",
   "id": "81fa2a93",
   "metadata": {},
   "source": [
    "## <span style=\"color:blue\"> Analyzing Our Data:</span>\n",
    ">1.a How many chess games have been recorded in this dataset?<br>\n",
    ">1.b What do the first 3 records look like?"
   ]
  },
  {
   "cell_type": "code",
   "execution_count": 5,
   "id": "ed6dea3a",
   "metadata": {},
   "outputs": [
    {
     "name": "stdout",
     "output_type": "stream",
     "text": [
      "There are 15451 games recorded in this dataset.\n",
      "\n",
      "Record 1:\n",
      "{'id': 'l1NXvwaE', 'rated': 'TRUE', 'created_at': '1.50413E+12', 'last_move_at': '1.50413E+12', 'turns': '16', 'victory_status': 'resign', 'winner': 'black', 'increment_code': '5+10', 'white_id': 'a-00', 'white_rating': '1322', 'black_id': 'skinnerua', 'black_rating': '1261', 'moves': 'd4 Nc6 e4 e5 f4 f6 dxe5 fxe5 fxe5 Nxe5 Qd4 Nc6 Qe5+ Nxe5 c4 Bb4+', 'opening_eco': 'B00', 'opening_name': 'Nimzowitsch Defense: Kennedy Variation', 'opening_ply': '4'}\n",
      "\n",
      "Record 2:\n",
      "{'id': 'mIICvQHh', 'rated': 'TRUE', 'created_at': '1.50413E+12', 'last_move_at': '1.50413E+12', 'turns': '61', 'victory_status': 'mate', 'winner': 'white', 'increment_code': '5+10', 'white_id': 'ischia', 'white_rating': '1496', 'black_id': 'a-00', 'black_rating': '1500', 'moves': 'e4 e5 d3 d6 Be3 c6 Be2 b5 Nd2 a5 a4 c5 axb5 Nc6 bxc6 Ra6 Nc4 a4 c3 a3 Nxa3 Rxa3 Rxa3 c4 dxc4 d5 cxd5 Qxd5 exd5 Be6 Ra8+ Ke7 Bc5+ Kf6 Bxf8 Kg6 Bxg7 Kxg7 dxe6 Kh6 exf7 Nf6 Rxh8 Nh5 Bxh5 Kg5 Rxh7 Kf5 Qf3+ Ke6 Bg4+ Kd6 Rh6+ Kc5 Qe3+ Kb5 c4+ Kb4 Qc3+ Ka4 Bd1#', 'opening_eco': 'C20', 'opening_name': \"King's Pawn Game: Leonardis Variation\", 'opening_ply': '3'}\n",
      "\n",
      "Record 3:\n",
      "{'id': 'kWKvrqYL', 'rated': 'TRUE', 'created_at': '1.50411E+12', 'last_move_at': '1.50411E+12', 'turns': '61', 'victory_status': 'mate', 'winner': 'white', 'increment_code': '20+0', 'white_id': 'daniamurashov', 'white_rating': '1439', 'black_id': 'adivanov2009', 'black_rating': '1454', 'moves': 'd4 d5 Nf3 Bf5 Nc3 Nf6 Bf4 Ng4 e3 Nc6 Be2 Qd7 O-O O-O-O Nb5 Nb4 Rc1 Nxa2 Ra1 Nb4 Nxa7+ Kb8 Nb5 Bxc2 Bxc7+ Kc8 Qd2 Qc6 Na7+ Kd7 Nxc6 bxc6 Bxd8 Kxd8 Qxb4 e5 Qb8+ Ke7 dxe5 Be4 Ra7+ Ke6 Qe8+ Kf5 Qxf7+ Nf6 Nh4+ Kg5 g3 Ng4 Qf4+ Kh5 Qxg4+ Kh6 Qf4+ g5 Qf6+ Bg6 Nxg6 Bg7 Qxg7#', 'opening_eco': 'D02', 'opening_name': \"Queen's Pawn Game: Zukertort Variation\", 'opening_ply': '3'}\n"
     ]
    }
   ],
   "source": [
    "print(\"There are \" + str(len(data)) + \" games recorded in this dataset.\")\n",
    "print(\"\\nRecord 1:\")\n",
    "print(data[0])\n",
    "print(\"\\nRecord 2:\")\n",
    "print(data[1])\n",
    "print(\"\\nRecord 3:\")\n",
    "print(data[2])"
   ]
  },
  {
   "cell_type": "markdown",
   "id": "eabe538c",
   "metadata": {},
   "source": [
    ">2.a How many moves was the longest game?<br>\n",
    ">2.b How many moves was the shortest game?<br>"
   ]
  },
  {
   "cell_type": "code",
   "execution_count": 6,
   "id": "896355a3",
   "metadata": {},
   "outputs": [
    {
     "name": "stdout",
     "output_type": "stream",
     "text": [
      "The longest game had 349 move(s).\n",
      "The shortest game had 1 move(s).\n"
     ]
    }
   ],
   "source": [
    "# print(data[0][\"turns\"])\n",
    "most_moves = [];\n",
    "for i in data:\n",
    "#     print(i[\"turns\"])\n",
    "    most_moves.append(int(i[\"turns\"]))\n",
    "most_moves.sort()\n",
    "print(\"The longest game had \" + str(most_moves[len(most_moves)-1]) + \" move(s).\")\n",
    "print(\"The shortest game had \" + str(most_moves[0]) + \" move(s).\")"
   ]
  },
  {
   "cell_type": "markdown",
   "id": "dc15025a",
   "metadata": {},
   "source": [
    ">3.a How many games were won by checkmate?<br>\n",
    ">3.b How many games were won by resignation?<br>\n",
    ">3.c How many games were won by timeout?<br>\n",
    ">3.d How many games were draws?<br>"
   ]
  },
  {
   "cell_type": "code",
   "execution_count": 7,
   "id": "26890c22",
   "metadata": {},
   "outputs": [
    {
     "name": "stdout",
     "output_type": "stream",
     "text": [
      "4870 games were won by checkmate.\n",
      "8584 games were won by resignation.\n",
      "1321 games were won by timeout.\n",
      "714 games were draws.\n"
     ]
    }
   ],
   "source": [
    "checkmate_games = list(filter(lambda x : x[\"victory_status\"] == \"mate\", data))\n",
    "print(str(len(checkmate_games)) + \" games were won by checkmate.\")\n",
    "resignation_games = list(filter(lambda x : x[\"victory_status\"] == \"resign\", data))\n",
    "print(str(len(resignation_games)) + \" games were won by resignation.\")\n",
    "timeout_games = list(filter(lambda x : x[\"victory_status\"] == \"outoftime\", data))\n",
    "print(str(len(timeout_games)) + \" games were won by timeout.\")\n",
    "draw_games = list(filter(lambda x : x[\"victory_status\"] == \"draw\", data))\n",
    "draw_games += list(filter(lambda x : x[\"victory_status\"] == \"outoftime\" and x[\"winner\"] == \"draw\", data))\n",
    "print(str(len(draw_games)) + \" games were draws.\")"
   ]
  },
  {
   "cell_type": "markdown",
   "id": "0aa5a6b2",
   "metadata": {},
   "source": [
    ">4.a Of all the games recorded in this data set, how many did white win?<br>\n",
    ">4.b Of all the games recorded in this data set, how many did black win?<br>\n",
    ">4.c Of all the games recorded in this data set, how many were a draw?"
   ]
  },
  {
   "cell_type": "code",
   "execution_count": 8,
   "id": "c98c1d82",
   "metadata": {},
   "outputs": [
    {
     "name": "stdout",
     "output_type": "stream",
     "text": [
      "7698 games were won by white.\n",
      "7039 games were won by black.\n",
      "714 games were a tie.\n"
     ]
    }
   ],
   "source": [
    "white_won = list(filter(lambda x : x[\"winner\"] == \"white\", data))\n",
    "print(str(len(white_won)) + \" games were won by white.\")\n",
    "black_won = list(filter(lambda x : x[\"winner\"] == \"black\", data))\n",
    "print(str(len(black_won)) + \" games were won by black.\")\n",
    "tie = list(filter(lambda x : x[\"winner\"] != \"white\" and x[\"winner\"] != \"black\", data))\n",
    "print(str(len(tie)) + \" games were a tie.\")"
   ]
  },
  {
   "cell_type": "markdown",
   "id": "dde6d0d6",
   "metadata": {},
   "source": [
    ">5.a How many games had a time increment?<br>\n",
    ">5.b Of the games that did have an increment, which increment was the most popular?<br>\n",
    ">5.c How many games didn't have a time increment?<br>\n",
    ">5.d Of the games that didn't have an increment, what was the most used time limit?"
   ]
  },
  {
   "cell_type": "code",
   "execution_count": 9,
   "id": "21af529e",
   "metadata": {},
   "outputs": [
    {
     "name": "stdout",
     "output_type": "stream",
     "text": [
      "6569 games had an increment.\n",
      "A 5 second increment was the most popular with 1551 games using it.\n",
      "8882 games did not have an increment.\n",
      "10 minute time limits were the most popular with 6493 games using it.\n"
     ]
    }
   ],
   "source": [
    "# 5.a\n",
    "def has_increment(increment):\n",
    "    time = increment[\"increment_code\"].split(\"+\")\n",
    "    if (time[1] == \"0\"):\n",
    "        return False\n",
    "    return True\n",
    "increment_games = list(filter(has_increment, data))\n",
    "print(str(len(increment_games)) + \" games had an increment.\")\n",
    "\n",
    "# 5.b\n",
    "increments = []\n",
    "counters = []\n",
    "for i in increment_games:\n",
    "    increment = i[\"increment_code\"].split(\"+\")\n",
    "    new = True\n",
    "    for j in range(len(increments)):\n",
    "        if (increments[j] == increment[1]):\n",
    "            counters[j] += 1\n",
    "            new = False\n",
    "            break\n",
    "    if new:\n",
    "        increments.append(increment[1])\n",
    "        counters.append(1)\n",
    "biggest = counters[0];\n",
    "biggest_index = 0;\n",
    "for i in range(1, len(counters)):\n",
    "    if counters[i] > biggest:\n",
    "        biggest = counters[i]\n",
    "        biggest_index = i\n",
    "print(\"A \" + str(increments[biggest_index]) + \" second increment was the most popular with \" + str(biggest) + \" games using it.\")\n",
    "\n",
    "# 5.c\n",
    "def no_increment(increment):\n",
    "    time = increment[\"increment_code\"].split(\"+\")\n",
    "    if (time[1] == \"0\"):\n",
    "        return True\n",
    "    return False\n",
    "no_increment_games = list(filter(no_increment, data))\n",
    "print(str(len(no_increment_games)) + \" games did not have an increment.\")\n",
    "\n",
    "#5.d\n",
    "times = []\n",
    "counters = []\n",
    "for i in no_increment_games:\n",
    "    time = i[\"increment_code\"].split(\"+\")\n",
    "    new = True\n",
    "    for j in range(len(times)):\n",
    "        if (times[j] == time[0]):\n",
    "            counters[j] += 1\n",
    "            new = False\n",
    "            break\n",
    "    if new:\n",
    "        times.append(time[0])\n",
    "        counters.append(1)\n",
    "biggest = counters[0];\n",
    "biggest_index = 0;\n",
    "for i in range(1, len(counters)):\n",
    "    if counters[i] > biggest:\n",
    "        biggest = counters[i]\n",
    "        biggest_index = i\n",
    "print(str(times[biggest_index]) + \" minute time limits were the most popular with \" + str(biggest) + \" games using it.\")"
   ]
  },
  {
   "cell_type": "markdown",
   "id": "50076af1",
   "metadata": {},
   "source": [
    ">6.a Who was the highest rated player for white?<br>\n",
    ">6.b Who was the lowest rated player for white?<br>\n",
    ">6.c Who was the highest rated player for black?<br>\n",
    ">6.d Who was the lowest rated player for black?"
   ]
  },
  {
   "cell_type": "code",
   "execution_count": 10,
   "id": "f23abcb4",
   "metadata": {},
   "outputs": [
    {
     "name": "stdout",
     "output_type": "stream",
     "text": [
      "The highest rated player for white was blitzbullet with a rating of 2622.\n",
      "The lowest rated player for white was ragnarlothbrook_spb with a rating of 784.\n",
      "The highest rated player for black was avill050 with a rating of 2588.\n",
      "The lowest rated player for black was hortense with a rating of 791.\n"
     ]
    }
   ],
   "source": [
    "white_ratings = []\n",
    "black_ratings = []\n",
    "for i in data:\n",
    "    white_ratings.append(int(i[\"white_rating\"]))\n",
    "    black_ratings.append(int(i[\"black_rating\"]))\n",
    "white_ratings.sort()\n",
    "black_ratings.sort()\n",
    "\n",
    "highest_rated_white = \"\"\n",
    "lowest_rated_white = \"\"\n",
    "highest_rated_black = \"\"\n",
    "lowest_rated_black = \"\"\n",
    "for i in data:\n",
    "    if int(i[\"white_rating\"]) == white_ratings[len(white_ratings)-1]:\n",
    "        highest_rated_white = i[\"white_id\"]\n",
    "    elif int(i[\"white_rating\"]) == white_ratings[0]:\n",
    "        lowest_rated_white = i[\"white_id\"]\n",
    "    if int(i[\"black_rating\"]) == black_ratings[len(black_ratings)-1]:\n",
    "        highest_rated_black = i[\"black_id\"]\n",
    "    elif int(i[\"black_rating\"]) == black_ratings[0]:\n",
    "        lowest_rated_black = i[\"black_id\"]\n",
    "    if highest_rated_white != \"\" and lowest_rated_white != \"\" and highest_rated_black != \"\" and highest_rated_black != \"\":\n",
    "        break;\n",
    "print(\"The highest rated player for white was \" + highest_rated_white + \" with a rating of \" + str(white_ratings[len(white_ratings)-1]) + \".\")\n",
    "print(\"The lowest rated player for white was \" + lowest_rated_white + \" with a rating of \" + str(white_ratings[0]) + \".\")\n",
    "print(\"The highest rated player for black was \" + highest_rated_black + \" with a rating of \" + str(black_ratings[len(black_ratings)-1]) + \".\")\n",
    "print(\"The lowest rated player for black was \" + lowest_rated_black + \" with a rating of \" + str(black_ratings[0]) + \".\")"
   ]
  },
  {
   "cell_type": "markdown",
   "id": "7ba607d2",
   "metadata": {},
   "source": [
    ">7.a What were the top 3 most played openings?<br>\n",
    ">7.b How many moves was the longest opening played?<br>\n",
    ">7.c How many moves was the shortest opening played?"
   ]
  },
  {
   "cell_type": "code",
   "execution_count": 11,
   "id": "e603bd82",
   "metadata": {
    "scrolled": false
   },
   "outputs": [
    {
     "name": "stdout",
     "output_type": "stream",
     "text": [
      "The top 3 openings played are: \n",
      "\t1. The Sicilian Defense, played 2012 times.\n",
      "\t2. The French Defense, played 1077 times.\n",
      "\t3. The Queen's Pawn Game, played 801 times.\n",
      "\n",
      "The opening with the most moves is the Ruy Lopez: Marshall Attack |  Modern Main Line with 28 moves.\n",
      "The opening with the least moves is the Queen's Pawn with 1 moves.\n"
     ]
    }
   ],
   "source": [
    "openings = []\n",
    "counters = []\n",
    "for i in data:\n",
    "    partition = \"\"\n",
    "    if \" | \" in i[\"opening_name\"]:\n",
    "        partition = i[\"opening_name\"].split(\" | \")\n",
    "        partition = partition[0].split(\": \")\n",
    "    else:\n",
    "        partition = i[\"opening_name\"].split(\": \")\n",
    "    new = True\n",
    "    for j in range(len(openings)):\n",
    "        if openings[j] == partition[0]:\n",
    "            counters[j] += 1\n",
    "            new = False\n",
    "            break\n",
    "    if new:\n",
    "        openings.append(partition[0])\n",
    "        counters.append(1)\n",
    "most_moves = int(data[0][\"opening_ply\"])\n",
    "most_name = data[0][\"opening_name\"]\n",
    "least_moves = int(data[0][\"opening_ply\"])\n",
    "least_name = data[0][\"opening_name\"]\n",
    "for i in data:\n",
    "    if int(i[\"opening_ply\"]) > most_moves:\n",
    "        most_moves = int(i[\"opening_ply\"])\n",
    "        most_name = i[\"opening_name\"]\n",
    "    elif int(i[\"opening_ply\"]) < least_moves:\n",
    "        least_moves = int(i[\"opening_ply\"])\n",
    "        least_name = i[\"opening_name\"]\n",
    "big_3 = []\n",
    "big_3_counter = []\n",
    "for i in range(3):\n",
    "    biggest = counters[0];\n",
    "    biggest_index = 0;\n",
    "    for i in range(1, len(counters)):\n",
    "        if counters[i] > biggest:\n",
    "            biggest = counters[i]\n",
    "            biggest_index = i\n",
    "    big_3_counter.append(counters[biggest_index])\n",
    "    big_3.append(openings[biggest_index])\n",
    "    openings.pop(biggest_index)\n",
    "    counters.pop(biggest_index)\n",
    "top_3 = tuple(zip(big_3, big_3_counter))\n",
    "message = \"The top 3 openings played are: \\n\"\n",
    "for i in range(3):\n",
    "    message += \"\\t\" + str(i+1) + \". The \" + str(top_3[i][0]) + \", played \" + str(top_3[i][1]) + \" times.\\n\"\n",
    "print(message)\n",
    "print(\"The opening with the most moves is the \" + most_name + \" with \" + str(most_moves) + \" moves.\")\n",
    "print(\"The opening with the least moves is the \" + least_name + \" with \" + str(least_moves) + \" moves.\")"
   ]
  },
  {
   "cell_type": "markdown",
   "id": "cad61594",
   "metadata": {},
   "source": [
    "## <span style=\"color:blue\"> Exploratory Data Analysis:</span>\n",
    ">**1. Are the chances of winning the game greater if you are playing white? If so, why is that?**"
   ]
  },
  {
   "cell_type": "code",
   "execution_count": null,
   "id": "da43533b",
   "metadata": {},
   "outputs": [],
   "source": []
  },
  {
   "cell_type": "markdown",
   "id": "94919966",
   "metadata": {},
   "source": [
    ">**2. Does the number of moves affect the outcome of the game? If the number of moves played goes over the average number of moves, what is the most likely outcome of the match? What if the number of moves is below average?**\n",
    "\n",
    ">As shown by the graph, the number of moves does affect the outcome of the game.  If the number of moves played goes over the average number of moves (not including draws), then black is more likely to win.  On the other hand, if the number of moves is below average then white has a better chance of winning.\n",
    "\n",
    ">To obtain this data, I had to first create a list containing the number of turns it took for each condition (white winning, black winning, draw game, total games).  This was achieved by using a filter to create a list of games where the condition is true, then using a for loop to make each element of the list only contain the number of turns.  Finally, I had to get the average turns for each condition, which was done by adding up all of the turns from the list and dividing them by the size of the list.\n",
    "\n",
    ">The first challenge that I came across was trying to create a new list only containing the turns and nothing else.  At first I had trouble accessing only the 'turns' element as I was trying to use functional programming with it.  I eventually solved this issue through using a for loop and accessing the element one by one.  The second challenge I faced was that this new list was a list of strings, so I had to convert the elements into integers in the reduce function.  The final challenge that I faced was that the average turn time for a game that ends in a draw was significantly longer than any other type of game, skewing the data towards longer games.  This was solved by creating a seperate mean of the total turns not including draw games, which gave better insight into which side (white or black) has more of an advantage when it comes to long vs short games."
   ]
  },
  {
   "cell_type": "code",
   "execution_count": 12,
   "id": "ae58b73c",
   "metadata": {},
   "outputs": [
    {
     "name": "stdout",
     "output_type": "stream",
     "text": [
      "Average number of moves in a game                     :  62.56708303669665\n",
      "Average number of moves in a game not including draws :  61.18131234308204\n",
      "Average number of moves in a game where white wins    :  60.016887503247595\n",
      "Average number of moves in a game where black wins    :  62.45475209546811\n",
      "Average number of moves in a game that ends in a draw :  91.16946778711484\n"
     ]
    },
    {
     "data": {
      "image/png": "[encoded data removed]",
      "text/plain": [
       "<Figure size 864x576 with 1 Axes>"
      ]
     },
     "metadata": {
      "needs_background": "light"
     },
     "output_type": "display_data"
    },
    {
     "data": {
      "text/plain": [
       "<Figure size 1440x1440 with 0 Axes>"
      ]
     },
     "metadata": {},
     "output_type": "display_data"
    }
   ],
   "source": [
    "def sum_of_wins(x1,x2):\n",
    "    return int(x1) + int(x2)\n",
    "\n",
    "white_wins = list(filter(lambda x : x[\"winner\"] == \"white\", data))\n",
    "for i in range(len(white_wins)):\n",
    "    white_wins[i] = white_wins[i][\"turns\"]\n",
    "white_wins_mean = (reduce(sum_of_wins, white_wins,0))/len(white_wins)\n",
    "\n",
    "black_wins = list(filter(lambda x : x[\"winner\"] == \"black\", data))\n",
    "for i in range(len(black_wins)):\n",
    "    black_wins[i] = black_wins[i][\"turns\"]\n",
    "black_wins_mean = (reduce(sum_of_wins, black_wins,0))/len(black_wins)\n",
    "\n",
    "total_draws = list(filter(lambda x : x[\"winner\"] == \"draw\", data))\n",
    "for i in range(len(total_draws)):\n",
    "    total_draws[i] = total_draws[i][\"turns\"]\n",
    "total_draws_mean = (reduce(sum_of_wins, total_draws,0))/len(total_draws)\n",
    "\n",
    "total_games_no_draws = list(filter(lambda x : x[\"winner\"] != \"draw\", data))\n",
    "for i in range(len(total_games_no_draws)):\n",
    "    total_games_no_draws[i] = total_games_no_draws[i][\"turns\"]\n",
    "total_games_no_draws_mean = (reduce(sum_of_wins, total_games_no_draws,0))/len(total_games_no_draws)\n",
    "\n",
    "total_games = list(filter(lambda x : x[\"winner\"] != \"\", data))\n",
    "for i in range(len(total_games)):\n",
    "    total_games[i] = total_games[i][\"turns\"]\n",
    "total_games_mean = (reduce(sum_of_wins, total_games,0))/len(total_games)\n",
    "\n",
    "print('Average number of moves in a game                     : ', total_games_mean)\n",
    "print('Average number of moves in a game not including draws : ', total_games_no_draws_mean)\n",
    "print('Average number of moves in a game where white wins    : ', white_wins_mean)\n",
    "print('Average number of moves in a game where black wins    : ', black_wins_mean)\n",
    "print('Average number of moves in a game that ends in a draw : ', total_draws_mean)\n",
    "\n",
    "fig = plt.figure(figsize=(12, 8))\n",
    "\n",
    "ax = fig.add_axes([0,0,1,1])\n",
    "conditions = ['Total Wins', 'Total Wins (no draws)', 'White Wins', 'Black Wins', 'Draw']\n",
    "means = [total_games_mean, total_games_no_draws_mean, white_wins_mean, black_wins_mean, total_draws_mean]\n",
    "ax.bar(conditions, means)\n",
    "ax.set_ylabel('Average Turns')\n",
    "ax.set_xlabel('Condition')\n",
    "ax.set_title('Average Turns Required For Each Condition')\n",
    "plt.figure(figsize=(20,20))\n",
    "plt.show()"
   ]
  },
  {
   "cell_type": "markdown",
   "id": "05051591",
   "metadata": {},
   "source": [
    ">**3. How do the following victory statuses correlate with rating? What conclusions can be drawn from the data collected?**<br>\n",
    ">  a) Checkmate<br>\n",
    ">  b) Resignation<br>\n",
    ">  c) Timeout <br>\n",
    "\n",
    ">As demonstrated by the graph, different victory statuses do correlate with rating.  What the data shows us is that a higher rated player is more likely to resign or run out of time, where a lower rated player is more likely to have a checkmate.\n",
    "\n",
    ">To find how the following victory statuses correlate with rating, I first had to find the average rating of each victory status.  This was done by applying a filter to get a list only containing games of each specific victory status.  I then used a for loop to turn the list into a list of integers which could then go into a reduce function to add up the ratings. Finally, I divided the ratings by the size of the list to get the mean rating for each victory condition.\n",
    "\n",
    ">The main challenge that I faced was when I tried to compare the results of the three victory statuses.  The first solution that I had was to add in the average rating for all games, however, the total rating of all games includes the ratings from games that ended in a draw.  To fix this I had to change the total_games to include all victory statuses except for draw games."
   ]
  },
  {
   "cell_type": "code",
   "execution_count": 13,
   "id": "d6c870c5",
   "metadata": {},
   "outputs": [
    {
     "name": "stdout",
     "output_type": "stream",
     "text": [
      "Average rating in a game not including draws :  1595.8538071065989\n",
      "Average rating in a checkmate game           :  1530.1913757700206\n",
      "Average rating in a resign game              :  1631.293219944082\n",
      "Average rating in a timeout game             :  1607.6358819076456\n"
     ]
    },
    {
     "data": {
      "image/png": "[encoded data removed]",
      "text/plain": [
       "<Figure size 864x576 with 1 Axes>"
      ]
     },
     "metadata": {
      "needs_background": "light"
     },
     "output_type": "display_data"
    },
    {
     "data": {
      "text/plain": [
       "<Figure size 1440x1440 with 0 Axes>"
      ]
     },
     "metadata": {},
     "output_type": "display_data"
    }
   ],
   "source": [
    "def sum_of_ratings(x1,x2):\n",
    "    return int(x1) + int(x2)\n",
    "\n",
    "checkmate_games = list(filter(lambda x : x[\"victory_status\"] == \"mate\", data))\n",
    "for i in range(len(checkmate_games)):\n",
    "    checkmate_games[i] = checkmate_games[i][\"white_rating\"]\n",
    "checkmate_games_mean = (reduce(sum_of_ratings, checkmate_games,0))/len(checkmate_games)\n",
    "\n",
    "resign_games = list(filter(lambda x : x[\"victory_status\"] == \"resign\", data))\n",
    "for i in range(len(resign_games)):\n",
    "    resign_games[i] = resign_games[i][\"white_rating\"]\n",
    "resign_games_mean = (reduce(sum_of_ratings, resign_games,0))/len(resign_games)\n",
    "\n",
    "timeout_games = list(filter(lambda x : x[\"victory_status\"] == \"outoftime\", data))\n",
    "for i in range(len(timeout_games)):\n",
    "    timeout_games[i] = timeout_games[i][\"white_rating\"]\n",
    "timeout_games_mean = (reduce(sum_of_ratings, timeout_games,0))/len(timeout_games)\n",
    "\n",
    "total_games = list(filter(lambda x : x[\"victory_status\"] != \"draw\", data))\n",
    "for i in range(len(total_games)):\n",
    "    total_games[i] = total_games[i][\"white_rating\"]\n",
    "total_games_mean = (reduce(sum_of_ratings, total_games,0))/len(total_games)\n",
    "\n",
    "print('Average rating in a game not including draws : ', total_games_mean)\n",
    "print('Average rating in a checkmate game           : ', checkmate_games_mean)\n",
    "print('Average rating in a resign game              : ', resign_games_mean)\n",
    "print('Average rating in a timeout game             : ', timeout_games_mean)\n",
    "\n",
    "fig = plt.figure(figsize=(12, 8))\n",
    "\n",
    "ax = fig.add_axes([0,0,1,1])\n",
    "conditions = ['Resign Games', 'Timeout Games', 'Total Games', 'Checkmate Games']\n",
    "means = [resign_games_mean, timeout_games_mean, total_games_mean, checkmate_games_mean]\n",
    "ax.bar(conditions, means)\n",
    "ax.set_ylabel('Average Rating')\n",
    "ax.set_xlabel('Victory Condition')\n",
    "ax.set_title('Average Rating For Each Victory Condition')\n",
    "plt.figure(figsize=(20,20))\n",
    "plt.show()"
   ]
  },
  {
   "cell_type": "markdown",
   "id": "3dc01c38",
   "metadata": {},
   "source": [
    ">**4.a List the top 5 highest win rate openings, what are their win rates?<br>\n",
    "4.b Do their win rates vary depending on piece colour?<br>\n",
    "4.c List the top 5 players that use the combination of these openings the most, what are their win rates and rating?<br>\n",
    "4.d What conclusions can be drawn from the data collected?**"
   ]
  },
  {
   "cell_type": "code",
   "execution_count": null,
   "id": "e4112ee3",
   "metadata": {},
   "outputs": [],
   "source": []
  },
  {
   "cell_type": "markdown",
   "id": "8f645cf0",
   "metadata": {},
   "source": [
    ">**5.a What is the relationship between the least and most common chess openings and their play rates?<br>\n",
    "5.b Does the trend indicate increasing or decreasing volatility in victory results?<br>\n",
    "5.c What conclusions can be drawn from the data collected?**"
   ]
  },
  {
   "cell_type": "code",
   "execution_count": null,
   "id": "51d13a3f",
   "metadata": {},
   "outputs": [],
   "source": []
  },
  {
   "cell_type": "markdown",
   "id": "b868a5f7",
   "metadata": {},
   "source": [
    ">**6. Is there a correlation between how many variations and moves there are in an opening has and how often it is played?**"
   ]
  },
  {
   "cell_type": "code",
   "execution_count": 14,
   "id": "fbe354f8",
   "metadata": {},
   "outputs": [
    {
     "data": {
      "text/html": [
       "<div>\n",
       "<style scoped>\n",
       "    .dataframe tbody tr th:only-of-type {\n",
       "        vertical-align: middle;\n",
       "    }\n",
       "\n",
       "    .dataframe tbody tr th {\n",
       "        vertical-align: top;\n",
       "    }\n",
       "\n",
       "    .dataframe thead th {\n",
       "        text-align: right;\n",
       "    }\n",
       "</style>\n",
       "<table border=\"1\" class=\"dataframe\">\n",
       "  <thead>\n",
       "    <tr style=\"text-align: right;\">\n",
       "      <th></th>\n",
       "      <th>Variation Count</th>\n",
       "    </tr>\n",
       "  </thead>\n",
       "  <tbody>\n",
       "    <tr>\n",
       "      <th>Nimzowitsch Defense</th>\n",
       "      <td>10</td>\n",
       "    </tr>\n",
       "    <tr>\n",
       "      <th>King's Pawn Game</th>\n",
       "      <td>22</td>\n",
       "    </tr>\n",
       "    <tr>\n",
       "      <th>Queen's Pawn Game</th>\n",
       "      <td>18</td>\n",
       "    </tr>\n",
       "    <tr>\n",
       "      <th>Philidor Defense</th>\n",
       "      <td>14</td>\n",
       "    </tr>\n",
       "    <tr>\n",
       "      <th>Blackmar-Diemer Gambit</th>\n",
       "      <td>9</td>\n",
       "    </tr>\n",
       "    <tr>\n",
       "      <th>...</th>\n",
       "      <td>...</td>\n",
       "    </tr>\n",
       "    <tr>\n",
       "      <th>Canard Opening</th>\n",
       "      <td>0</td>\n",
       "    </tr>\n",
       "    <tr>\n",
       "      <th>Scotch Gambit</th>\n",
       "      <td>0</td>\n",
       "    </tr>\n",
       "    <tr>\n",
       "      <th>Pterodactyl Defense</th>\n",
       "      <td>1</td>\n",
       "    </tr>\n",
       "    <tr>\n",
       "      <th>Czech Defense</th>\n",
       "      <td>0</td>\n",
       "    </tr>\n",
       "    <tr>\n",
       "      <th>Rubinstein Opening</th>\n",
       "      <td>0</td>\n",
       "    </tr>\n",
       "  </tbody>\n",
       "</table>\n",
       "<p>172 rows × 1 columns</p>\n",
       "</div>"
      ],
      "text/plain": [
       "                        Variation Count\n",
       "Nimzowitsch Defense                  10\n",
       "King's Pawn Game                     22\n",
       "Queen's Pawn Game                    18\n",
       "Philidor Defense                     14\n",
       "Blackmar-Diemer Gambit                9\n",
       "...                                 ...\n",
       "Canard Opening                        0\n",
       "Scotch Gambit                         0\n",
       "Pterodactyl Defense                   1\n",
       "Czech Defense                         0\n",
       "Rubinstein Opening                    0\n",
       "\n",
       "[172 rows x 1 columns]"
      ]
     },
     "execution_count": 14,
     "metadata": {},
     "output_type": "execute_result"
    }
   ],
   "source": [
    "newopenings = []\n",
    "for i in data:\n",
    "    partition = \"\"\n",
    "    if \" | \" in i[\"opening_name\"]:\n",
    "        partition = i[\"opening_name\"].split(\" | \")\n",
    "        partition = partition[0].split(\": \")\n",
    "    else:\n",
    "        partition = i[\"opening_name\"].split(\": \")\n",
    "    new = True\n",
    "    for j in range(len(newopenings)):\n",
    "        if newopenings[j] == partition[0]:\n",
    "            new = False\n",
    "            break\n",
    "    if new:\n",
    "        newopenings.append(partition[0])\n",
    "\n",
    "count = {}\n",
    "for i in newopenings:\n",
    "    temp = []\n",
    "    for j in data:\n",
    "        partition = \"\"\n",
    "        if \" | \" in j[\"opening_name\"]:\n",
    "            partition = j[\"opening_name\"].split(\" | \")\n",
    "            partition = partition[0].split(\": \", 2)\n",
    "        else:\n",
    "            partition = j[\"opening_name\"].split(\": \", 2)\n",
    "        if partition[0] == i:\n",
    "            if \": \" in j[\"opening_name\"] or \" | \" in j[\"opening_name\"]:\n",
    "                if (len(partition) > 1):\n",
    "                    temp.append(partition[1])\n",
    "                else:\n",
    "                    temp.append(partition[0])\n",
    "    count[i] = len(list(dict.fromkeys(temp)))\n",
    "opening_df = pd.DataFrame.from_dict(count, orient=\"index\")\n",
    "opening_df.rename(columns={0: \"Variation Count\"}, inplace=True)\n",
    "opening_df"
   ]
  },
  {
   "cell_type": "code",
   "execution_count": 15,
   "id": "af9a1192",
   "metadata": {},
   "outputs": [
    {
     "data": {
      "text/plain": [
       "Text(0, 0.5, 'Variation Count')"
      ]
     },
     "execution_count": 15,
     "metadata": {},
     "output_type": "execute_result"
    },
    {
     "data": {
      "image/png": "[encoded data removed]",
      "text/plain": [
       "<Figure size 432x288 with 1 Axes>"
      ]
     },
     "metadata": {
      "needs_background": "light"
     },
     "output_type": "display_data"
    }
   ],
   "source": [
    "top_ten_openings = []\n",
    "top_ten_counters = []\n",
    "for i, j in opening_df.iterrows():\n",
    "    top_ten_counters.append(j[0])\n",
    "top_ten_counters.sort(reverse=True)\n",
    "for i in range(10):\n",
    "    for j, k in opening_df.iterrows():\n",
    "        if (k[0] == top_ten_counters[i]):\n",
    "            top_ten_openings.append(j)\n",
    "top_ten = {}\n",
    "for i in range(len(top_ten_openings)):\n",
    "    top_ten[top_ten_openings[i]] = top_ten_counters[i]\n",
    "top_ten_df = pd.DataFrame.from_dict(top_ten, orient=\"index\")\n",
    "top_ten_df.rename(columns={0: \"Variation Count\"}, inplace=True)\n",
    "top_ten_df.plot.bar(title=\"Top 10 Openings by Variation Count\", legend=None)\n",
    "plt.xlabel(\"Openings\")\n",
    "plt.ylabel(\"Variation Count\")"
   ]
  },
  {
   "cell_type": "code",
   "execution_count": 16,
   "id": "3d325cd3",
   "metadata": {},
   "outputs": [
    {
     "data": {
      "text/html": [
       "<div>\n",
       "<style scoped>\n",
       "    .dataframe tbody tr th:only-of-type {\n",
       "        vertical-align: middle;\n",
       "    }\n",
       "\n",
       "    .dataframe tbody tr th {\n",
       "        vertical-align: top;\n",
       "    }\n",
       "\n",
       "    .dataframe thead th {\n",
       "        text-align: right;\n",
       "    }\n",
       "</style>\n",
       "<table border=\"1\" class=\"dataframe\">\n",
       "  <thead>\n",
       "    <tr style=\"text-align: right;\">\n",
       "      <th></th>\n",
       "      <th>Number of Moves in Opening</th>\n",
       "    </tr>\n",
       "  </thead>\n",
       "  <tbody>\n",
       "    <tr>\n",
       "      <th>Sicilian Defense</th>\n",
       "      <td>3</td>\n",
       "    </tr>\n",
       "    <tr>\n",
       "      <th>French Defense</th>\n",
       "      <td>4</td>\n",
       "    </tr>\n",
       "    <tr>\n",
       "      <th>Queen's Gambit Declined</th>\n",
       "      <td>4</td>\n",
       "    </tr>\n",
       "    <tr>\n",
       "      <th>Caro-Kann Defense</th>\n",
       "      <td>2</td>\n",
       "    </tr>\n",
       "    <tr>\n",
       "      <th>Ruy Lopez</th>\n",
       "      <td>5</td>\n",
       "    </tr>\n",
       "    <tr>\n",
       "      <th>King's Pawn Game</th>\n",
       "      <td>2</td>\n",
       "    </tr>\n",
       "    <tr>\n",
       "      <th>Zukertort Opening</th>\n",
       "      <td>4</td>\n",
       "    </tr>\n",
       "    <tr>\n",
       "      <th>English Opening</th>\n",
       "      <td>1</td>\n",
       "    </tr>\n",
       "    <tr>\n",
       "      <th>Queen's Pawn Game</th>\n",
       "      <td>2</td>\n",
       "    </tr>\n",
       "    <tr>\n",
       "      <th>Italian Game</th>\n",
       "      <td>5</td>\n",
       "    </tr>\n",
       "  </tbody>\n",
       "</table>\n",
       "</div>"
      ],
      "text/plain": [
       "                         Number of Moves in Opening\n",
       "Sicilian Defense                                  3\n",
       "French Defense                                    4\n",
       "Queen's Gambit Declined                           4\n",
       "Caro-Kann Defense                                 2\n",
       "Ruy Lopez                                         5\n",
       "King's Pawn Game                                  2\n",
       "Zukertort Opening                                 4\n",
       "English Opening                                   1\n",
       "Queen's Pawn Game                                 2\n",
       "Italian Game                                      5"
      ]
     },
     "execution_count": 16,
     "metadata": {},
     "output_type": "execute_result"
    }
   ],
   "source": [
    "top_ten_moves = {}\n",
    "for i in top_ten_openings:\n",
    "    for j in data:\n",
    "        if j[\"opening_name\"] == i:\n",
    "            top_ten_moves[i] = int(j[\"opening_ply\"])\n",
    "            break;\n",
    "move_df = pd.DataFrame.from_dict(top_ten_moves, orient=\"index\")\n",
    "move_df.rename(columns={0: \"Number of Moves in Opening\"}, inplace=True)\n",
    "move_df"
   ]
  },
  {
   "cell_type": "code",
   "execution_count": 17,
   "id": "1b9b5f6f",
   "metadata": {
    "scrolled": true
   },
   "outputs": [
    {
     "data": {
      "text/plain": [
       "Text(0, 0.5, 'Number of Moves')"
      ]
     },
     "execution_count": 17,
     "metadata": {},
     "output_type": "execute_result"
    },
    {
     "data": {
      "image/png": "[encoded data removed]",
      "text/plain": [
       "<Figure size 432x288 with 1 Axes>"
      ]
     },
     "metadata": {
      "needs_background": "light"
     },
     "output_type": "display_data"
    }
   ],
   "source": [
    "move_df.plot.bar(title=\"Number of Moves in the Top 10 Openings by Variation Count\", legend=None)\n",
    "plt.xlabel(\"Openings\")\n",
    "plt.ylabel(\"Number of Moves\")"
   ]
  },
  {
   "cell_type": "markdown",
   "id": "f3b67949",
   "metadata": {},
   "source": [
    "## <span style=\"color:blue\"> Potential Data Analysis:</span>\n",
    "\n",
    "## <span style=\"color:blue\"> Conclusion:</span>"
   ]
  },
  {
   "cell_type": "code",
   "execution_count": null,
   "id": "3ebf235a",
   "metadata": {},
   "outputs": [],
   "source": []
  }
 ],
 "metadata": {
  "kernelspec": {
   "display_name": "Python 3 (ipykernel)",
   "language": "python",
   "name": "python3"
  },
  "language_info": {
   "codemirror_mode": {
    "name": "ipython",
    "version": 3
   },
   "file_extension": ".py",
   "mimetype": "text/x-python",
   "name": "python",
   "nbconvert_exporter": "python",
   "pygments_lexer": "ipython3",
   "version": "3.8.12"
  }
 },
 "nbformat": 4,
 "nbformat_minor": 5
}
