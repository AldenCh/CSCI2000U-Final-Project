{
 "cells": [
  {
   "cell_type": "markdown",
   "id": "3a8e6dc1",
   "metadata": {},
   "source": [
    "# <span style=\"color:blue\"> Final Project</span>\n",
    "\n",
    "**Project Group #:** &nbsp;&nbsp;&nbsp;&nbsp;&nbsp;&nbsp;&nbsp;10<br>\n",
    "**Group Members:** &nbsp;&nbsp;&nbsp;&nbsp;&nbsp;&nbsp;Saffron Birch(100795118), Victor Ma(100789474), Nicholas Panait(100776699), and Ji Long Alden Chan(100783638)<br><br>\n",
    "\n",
    "## <span style=\"color:blue\"> Introduction</span>\n",
    "**Why did you choose this dataset over others?**<br>\n",
    ">The main reason why we choose this dataset over others was because the dataset is on a topic that we found interesting. This combined with the fact that the dataset contains 20058 points of data with 16 attributes, makes it a very useful dataset for analysis. Another reason we choose to do a dataset on chess rather than something else is the value of data analysis in something as complex as chess. In chess, there is more variation the more moves you make, because of this it is easy to see which moves are better earlier on.\n",
    "\n",
    "**What are the data analysis questions you want to use this dataset for?**<br>\n",
    ">1. Are the chances of winning the game greater if you are playing white? If so, why is that?\n",
    "\n",
    ">2. Does the number of moves affect the outcome of the game? If the number of moves played goes over the average number of moves, what is the most likely outcome of the match? What if the number of moves is below average?\n",
    "\n",
    ">3. How do the following victory statuses correlate with rating? Find the correlation coefficient and determine whether the relationship is strong/weak and positive/negative. What conclusions can be drawn from the data collected?<br>\n",
    ">  a) Checkmate<br>\n",
    ">  b) Resignation<br>\n",
    ">  c) Timeout <br>\n",
    "\n",
    ">4. List the top 5 highest win rate openings, what are their win rates? Do their win rates vary depending on piece colour? List the top 5 players that use the combination of these openings the most, what are their win rates and rating? What conclusions can be drawn from the data collected? \n",
    "\n",
    ">5. What is the relationship between the least and most common chess openings and their play rates? Does the trend indicate increasing or decreasing volatility in victory results? What conclusions can be drawn from the data collected?\n",
    "\n",
    "**What did each team member do?**\n",
    "\n",
    "## <span style=\"color:blue\"> Description of the Data </span>\n",
    "**Dataset Link:** &nbsp;&nbsp;&nbsp;&nbsp;&nbsp;&nbsp;&nbsp;&nbsp;&nbsp;&nbsp;&nbsp;&nbsp; https://www.kaggle.com/datasnaek/chess/<br>\n",
    "**Dataset Name:** &nbsp;&nbsp;&nbsp;&nbsp;&nbsp;&nbsp;&nbsp;&nbsp;&nbsp;&nbsp;Chess Game Dataset(Lichess)<br>\n",
    "**Dataset Description:** This dataset holds the records of over 20000 games of chess played on [Lichess](https://lichess.org/) collected using the [Lichess API](https://github.com/ornicar/lila).<br>\n",
    "**Dataset Attributes:** <br>\n",
    ">**id** : The ID associated with the game in Lichess's database of games.<br>\n",
    ">**rated** : Whether the game played was casual or worth rating.<br>\n",
    ">**created_at** : The time in seconds that the game was created.<br>\n",
    ">**last_move_at** : The time in seconds that the last move of the game was played and it finished.<br>\n",
    ">**turns** : The total number of turns played in the game.<br>\n",
    ">**victory_status** : How the game was won, by timeout, checkmate, resignation or if it was a draw.<br>\n",
    ">**winner** : The colour pieces won the match or whether it was a draw.<br>\n",
    ">**increment_code** : The time alloted for the match in the form: *Time limit per side in minutes* : *Seconds added to the time limit per move*.<br>\n",
    ">**white_id** : The username of the person playing white.<br>\n",
    ">**white_rating** : The rating of the person playing white.<br>\n",
    ">**black_id** : The username of the person playing black.<br>\n",
    ">**black_rating** : The rating of the person playing black.<br>\n",
    ">**moves** : The moves played during that game in standard chess notation.<br>\n",
    ">**opening_eco** : The unique standardized code given to every opening.<br>\n",
    ">**opening_name** : The name of the opening played.<br>\n",
    ">**opening_ply** : The number of moves in this specific opening.<br>"
   ]
  },
  {
   "cell_type": "code",
   "execution_count": 2,
   "id": "8dfd8e84",
   "metadata": {},
   "outputs": [],
   "source": [
    "import csv\n",
    "import re\n",
    "from functools import reduce\n",
    "import numpy as np\n",
    "\n",
    "# this aux function reads the CSV file and returns the data in a Python dictionary\n",
    "def get_data_csv():\n",
    "    collection = []\n",
    "    with open('games.csv', 'r') as f:\n",
    "        for line in csv.DictReader(f):\n",
    "            collection.append(line)\n",
    "        return collection\n",
    "        \n",
    "# the data    \n",
    "data = get_data_csv()"
   ]
  },
  {
   "cell_type": "markdown",
   "id": "d6f85f16",
   "metadata": {},
   "source": [
    "## <span style=\"color:blue\"> Cleaning and Preprocessing of Data:</span>"
   ]
  },
  {
   "cell_type": "markdown",
   "id": "8c246ff9",
   "metadata": {},
   "source": [
    "> How many of these games were rated?<br>\n",
    "> How many of these games were unrated?"
   ]
  },
  {
   "cell_type": "code",
   "execution_count": 3,
   "id": "f42bb1c5",
   "metadata": {},
   "outputs": [
    {
     "name": "stdout",
     "output_type": "stream",
     "text": [
      "16155 games were rated.\n",
      "3903 games were unrated.\n"
     ]
    }
   ],
   "source": [
    "rated_games = list(filter(lambda x : x[\"rated\"] == \"TRUE\" or x[\"rated\"] == \"True\", data))\n",
    "print(str(len(rated_games)) + \" games were rated.\")\n",
    "unrated_games = list(filter(lambda x : x[\"rated\"] == \"FALSE\" or x[\"rated\"] == \"False\", data))\n",
    "print(str(len(unrated_games)) + \" games were unrated.\")"
   ]
  },
  {
   "cell_type": "code",
   "execution_count": 36,
   "id": "18838f86",
   "metadata": {},
   "outputs": [
    {
     "name": "stdout",
     "output_type": "stream",
     "text": [
      "Number of games left after removing unrated games: 16155\n",
      "Number of games left after processing rating gap: 15451\n"
     ]
    },
    {
     "data": {
      "text/plain": [
       "<map at 0x7f625da576d0>"
      ]
     },
     "execution_count": 36,
     "metadata": {},
     "output_type": "execute_result"
    }
   ],
   "source": [
    "# Remove unrated as the quality of the games is low\n",
    "data = rated_games\n",
    "print(\"Number of games left after removing unrated games: \"+str(len(data)))\n",
    "# Remove games with a rating gap of more than 500\n",
    "data = list(filter(lambda x: int(x[\"white_rating\"])-int(x[\"black_rating\"]) >= -500 and int(x[\"white_rating\"])-int(x[\"black_rating\"]) <= 500, data))\n",
    "print(\"Number of games left after processing rating gap: \"+str(len(data)))\n",
    "# Lowercase all of victory status and winner for easier processing\n",
    "map(lambda x: x[\"winner\"], data)\n",
    "map(lambda x: x[\"victory_status\"].lower(), data)"
   ]
  },
  {
   "cell_type": "markdown",
   "id": "81fa2a93",
   "metadata": {},
   "source": [
    "## <span style=\"color:blue\"> Analyzing Our Data:</span>\n",
    ">1.a How many chess games have been recorded in this dataset?<br>\n",
    ">1.b What do the first 3 records look like?"
   ]
  },
  {
   "cell_type": "code",
   "execution_count": 21,
   "id": "ed6dea3a",
   "metadata": {},
   "outputs": [
    {
     "name": "stdout",
     "output_type": "stream",
     "text": [
      "There are 20058 games recorded in this dataset.\n",
      "\n",
      "Record 1:\n",
      "{'id': 'TZJHLljE', 'rated': 'FALSE', 'created_at': '1.50421E+12', 'last_move_at': '1.50421E+12', 'turns': '13', 'victory_status': 'outoftime', 'winner': 'white', 'increment_code': '15+2', 'white_id': 'bourgris', 'white_rating': '1500', 'black_id': 'a-00', 'black_rating': '1191', 'moves': 'd4 d5 c4 c6 cxd5 e6 dxe6 fxe6 Nf3 Bb4+ Nc3 Ba5 Bf4', 'opening_eco': 'D10', 'opening_name': 'Slav Defense: Exchange Variation', 'opening_ply': '5'}\n",
      "\n",
      "Record 2:\n",
      "{'id': 'l1NXvwaE', 'rated': 'TRUE', 'created_at': '1.50413E+12', 'last_move_at': '1.50413E+12', 'turns': '16', 'victory_status': 'resign', 'winner': 'black', 'increment_code': '5+10', 'white_id': 'a-00', 'white_rating': '1322', 'black_id': 'skinnerua', 'black_rating': '1261', 'moves': 'd4 Nc6 e4 e5 f4 f6 dxe5 fxe5 fxe5 Nxe5 Qd4 Nc6 Qe5+ Nxe5 c4 Bb4+', 'opening_eco': 'B00', 'opening_name': 'Nimzowitsch Defense: Kennedy Variation', 'opening_ply': '4'}\n",
      "\n",
      "Record 3:\n",
      "{'id': 'mIICvQHh', 'rated': 'TRUE', 'created_at': '1.50413E+12', 'last_move_at': '1.50413E+12', 'turns': '61', 'victory_status': 'mate', 'winner': 'white', 'increment_code': '5+10', 'white_id': 'ischia', 'white_rating': '1496', 'black_id': 'a-00', 'black_rating': '1500', 'moves': 'e4 e5 d3 d6 Be3 c6 Be2 b5 Nd2 a5 a4 c5 axb5 Nc6 bxc6 Ra6 Nc4 a4 c3 a3 Nxa3 Rxa3 Rxa3 c4 dxc4 d5 cxd5 Qxd5 exd5 Be6 Ra8+ Ke7 Bc5+ Kf6 Bxf8 Kg6 Bxg7 Kxg7 dxe6 Kh6 exf7 Nf6 Rxh8 Nh5 Bxh5 Kg5 Rxh7 Kf5 Qf3+ Ke6 Bg4+ Kd6 Rh6+ Kc5 Qe3+ Kb5 c4+ Kb4 Qc3+ Ka4 Bd1#', 'opening_eco': 'C20', 'opening_name': \"King's Pawn Game: Leonardis Variation\", 'opening_ply': '3'}\n"
     ]
    }
   ],
   "source": [
    "print(\"There are \" + str(len(data)) + \" games recorded in this dataset.\")\n",
    "print(\"\\nRecord 1:\")\n",
    "print(data[0])\n",
    "print(\"\\nRecord 2:\")\n",
    "print(data[1])\n",
    "print(\"\\nRecord 3:\")\n",
    "print(data[2])"
   ]
  },
  {
   "cell_type": "markdown",
   "id": "eabe538c",
   "metadata": {},
   "source": [
    ">2.a How many moves was the longest game?<br>\n",
    ">2.b How many moves was the shortest game?<br>"
   ]
  },
  {
   "cell_type": "code",
   "execution_count": 85,
   "id": "896355a3",
   "metadata": {},
   "outputs": [
    {
     "name": "stdout",
     "output_type": "stream",
     "text": [
      "The longest game had 349 move(s).\n",
      "The shortest game had 1 move(s).\n"
     ]
    }
   ],
   "source": [
    "# print(data[0][\"turns\"])\n",
    "most_moves = [];\n",
    "for i in data:\n",
    "#     print(i[\"turns\"])\n",
    "    most_moves.append(int(i[\"turns\"]))\n",
    "most_moves.sort()\n",
    "print(\"The longest game had \" + str(most_moves[len(most_moves)-1]) + \" move(s).\")\n",
    "print(\"The shortest game had \" + str(most_moves[0]) + \" move(s).\")"
   ]
  },
  {
   "cell_type": "markdown",
   "id": "dc15025a",
   "metadata": {},
   "source": [
    ">3.a How many games were won by checkmate?<br>\n",
    ">3.b How many games were won by resignation?<br>\n",
    ">3.c How many games were won by timeout?<br>\n",
    ">3.d How many games were draws?<br>"
   ]
  },
  {
   "cell_type": "code",
   "execution_count": 13,
   "id": "26890c22",
   "metadata": {},
   "outputs": [
    {
     "name": "stdout",
     "output_type": "stream",
     "text": [
      "5146 games were won by checkmate.\n",
      "8969 games were won by resignation.\n",
      "1359 games were won by timeout.\n",
      "719 games were draws.\n"
     ]
    }
   ],
   "source": [
    "checkmate_games = list(filter(lambda x : x[\"victory_status\"] == \"mate\", data))\n",
    "print(str(len(checkmate_games)) + \" games were won by checkmate.\")\n",
    "resignation_games = list(filter(lambda x : x[\"victory_status\"] == \"resign\", data))\n",
    "print(str(len(resignation_games)) + \" games were won by resignation.\")\n",
    "timeout_games = list(filter(lambda x : x[\"victory_status\"] == \"outoftime\", data))\n",
    "print(str(len(timeout_games)) + \" games were won by timeout.\")\n",
    "draw_games = list(filter(lambda x : x[\"victory_status\"] == \"draw\", data))\n",
    "draw_games += list(filter(lambda x : x[\"victory_status\"] == \"outoftime\" and x[\"winner\"] == \"draw\", data))\n",
    "print(str(len(draw_games)) + \" games were draws.\")"
   ]
  },
  {
   "cell_type": "markdown",
   "id": "0aa5a6b2",
   "metadata": {},
   "source": [
    ">4.a Of all the games recorded in this data set, how many did white win?<br>\n",
    ">4.b Of all the games recorded in this data set, how many did black win?<br>\n",
    ">4.c Of all the games recorded in this data set, how many were a draw?"
   ]
  },
  {
   "cell_type": "code",
   "execution_count": 14,
   "id": "c98c1d82",
   "metadata": {},
   "outputs": [
    {
     "name": "stdout",
     "output_type": "stream",
     "text": [
      "8052 games were won by white.\n",
      "7384 games were won by black.\n",
      "719 games were a tie.\n"
     ]
    }
   ],
   "source": [
    "white_won = list(filter(lambda x : x[\"winner\"] == \"white\", data))\n",
    "print(str(len(white_won)) + \" games were won by white.\")\n",
    "black_won = list(filter(lambda x : x[\"winner\"] == \"black\", data))\n",
    "print(str(len(black_won)) + \" games were won by black.\")\n",
    "tie = list(filter(lambda x : x[\"winner\"] != \"white\" and x[\"winner\"] != \"black\", data))\n",
    "print(str(len(tie)) + \" games were a tie.\")"
   ]
  },
  {
   "cell_type": "markdown",
   "id": "dde6d0d6",
   "metadata": {},
   "source": [
    ">5.a How many games had a time increment?<br>\n",
    ">5.b Of the games that did have an increment, which increment was the most popular?<br>\n",
    ">5.c How many games didn't have a time increment?<br>\n",
    ">5.d Of the games that didn't have an increment, what was the most used time limit?"
   ]
  },
  {
   "cell_type": "code",
   "execution_count": 55,
   "id": "21af529e",
   "metadata": {},
   "outputs": [
    {
     "name": "stdout",
     "output_type": "stream",
     "text": [
      "8960 games had an increment.\n",
      "A 5 second increment was the most popular with 2068 games using it.\n",
      "11098 games did not have an increment.\n",
      "10 minute time limits were the most popular with 7721 games using it.\n"
     ]
    }
   ],
   "source": [
    "# 5.a\n",
    "def has_increment(increment):\n",
    "    time = increment[\"increment_code\"].split(\"+\")\n",
    "    if (time[1] == \"0\"):\n",
    "        return False\n",
    "    return True\n",
    "increment_games = list(filter(has_increment, data))\n",
    "print(str(len(increment_games)) + \" games had an increment.\")\n",
    "\n",
    "# 5.b\n",
    "increments = []\n",
    "counters = []\n",
    "for i in increment_games:\n",
    "    increment = i[\"increment_code\"].split(\"+\")\n",
    "    new = True\n",
    "    for j in range(len(increments)):\n",
    "        if (increments[j] == increment[1]):\n",
    "            counters[j] += 1\n",
    "            new = False\n",
    "            break\n",
    "    if new:\n",
    "        increments.append(increment[1])\n",
    "        counters.append(1)\n",
    "biggest = counters[0];\n",
    "biggest_index = 0;\n",
    "for i in range(1, len(counters)):\n",
    "    if counters[i] > biggest:\n",
    "        biggest = counters[i]\n",
    "        biggest_index = i\n",
    "print(\"A \" + str(increments[biggest_index]) + \" second increment was the most popular with \" + str(biggest) + \" games using it.\")\n",
    "\n",
    "# 5.c\n",
    "def no_increment(increment):\n",
    "    time = increment[\"increment_code\"].split(\"+\")\n",
    "    if (time[1] == \"0\"):\n",
    "        return True\n",
    "    return False\n",
    "no_increment_games = list(filter(no_increment, data))\n",
    "print(str(len(no_increment_games)) + \" games did not have an increment.\")\n",
    "\n",
    "#5.d\n",
    "times = []\n",
    "counters = []\n",
    "for i in no_increment_games:\n",
    "    time = i[\"increment_code\"].split(\"+\")\n",
    "    new = True\n",
    "    for j in range(len(times)):\n",
    "        if (times[j] == time[0]):\n",
    "            counters[j] += 1\n",
    "            new = False\n",
    "            break\n",
    "    if new:\n",
    "        times.append(time[0])\n",
    "        counters.append(1)\n",
    "biggest = counters[0];\n",
    "biggest_index = 0;\n",
    "for i in range(1, len(counters)):\n",
    "    if counters[i] > biggest:\n",
    "        biggest = counters[i]\n",
    "        biggest_index = i\n",
    "print(str(times[biggest_index]) + \" minute time limits were the most popular with \" + str(biggest) + \" games using it.\")"
   ]
  },
  {
   "cell_type": "markdown",
   "id": "50076af1",
   "metadata": {},
   "source": [
    ">6.a Who was the highest rated player for white?<br>\n",
    ">6.b Who was the lowest rated player for white?<br>\n",
    ">6.c Who was the highest rated player for black?<br>\n",
    ">6.d Who was the lowest rated player for black?"
   ]
  },
  {
   "cell_type": "code",
   "execution_count": 100,
   "id": "f23abcb4",
   "metadata": {},
   "outputs": [
    {
     "name": "stdout",
     "output_type": "stream",
     "text": [
      "The highest rated player for white was justicebot with a rating of 2700.\n",
      "The lowest rated player for white was crazyscientist1 with a rating of 784.\n",
      "The highest rated player for black was justicebot with a rating of 2723.\n",
      "The lowest rated player for black was crazyscientist1 with a rating of 789.\n"
     ]
    }
   ],
   "source": [
    "white_ratings = []\n",
    "black_ratings = []\n",
    "for i in data:\n",
    "    white_ratings.append(int(i[\"white_rating\"]))\n",
    "    black_ratings.append(int(i[\"black_rating\"]))\n",
    "white_ratings.sort()\n",
    "black_ratings.sort()\n",
    "\n",
    "highest_rated_white = \"\"\n",
    "lowest_rated_white = \"\"\n",
    "highest_rated_black = \"\"\n",
    "lowest_rated_black = \"\"\n",
    "for i in data:\n",
    "    if int(i[\"white_rating\"]) == white_ratings[len(white_ratings)-1]:\n",
    "        highest_rated_white = i[\"white_id\"]\n",
    "    elif int(i[\"white_rating\"]) == white_ratings[0]:\n",
    "        lowest_rated_white = i[\"white_id\"]\n",
    "    if int(i[\"black_rating\"]) == black_ratings[len(black_ratings)-1]:\n",
    "        highest_rated_black = i[\"black_id\"]\n",
    "    elif int(i[\"black_rating\"]) == black_ratings[0]:\n",
    "        lowest_rated_black = i[\"black_id\"]\n",
    "    if highest_rated_white != \"\" and lowest_rated_white != \"\" and highest_rated_black != \"\" and highest_rated_black != \"\":\n",
    "        break;\n",
    "print(\"The highest rated player for white was \" + highest_rated_white + \" with a rating of \" + str(white_ratings[len(white_ratings)-1]) + \".\")\n",
    "print(\"The lowest rated player for white was \" + lowest_rated_white + \" with a rating of \" + str(white_ratings[0]) + \".\")\n",
    "print(\"The highest rated player for black was \" + highest_rated_black + \" with a rating of \" + str(black_ratings[len(black_ratings)-1]) + \".\")\n",
    "print(\"The lowest rated player for black was \" + lowest_rated_black + \" with a rating of \" + str(black_ratings[0]) + \".\")"
   ]
  },
  {
   "cell_type": "markdown",
   "id": "7ba607d2",
   "metadata": {},
   "source": [
    ">7.a What were the top 3 most played openings?<br>\n",
    ">7.b How many moves was the longest opening played?<br>\n",
    ">7.c How many moves was the shortest opening played?"
   ]
  },
  {
   "cell_type": "code",
   "execution_count": 124,
   "id": "e603bd82",
   "metadata": {
    "scrolled": false
   },
   "outputs": [
    {
     "name": "stdout",
     "output_type": "stream",
     "text": [
      "The top 3 openings played are: \n",
      "\t1. The Sicilian Defense, played 2573 times.\n",
      "\t2. The French Defense, played 1306 times.\n",
      "\t3. The Queen's Pawn Game, played 1059 times.\n",
      "\n",
      "The opening with the most moves is the Ruy Lopez: Marshall Attack |  Modern Main Line with 28 moves.\n",
      "The opening with the least moves is the Van't Kruijs Opening with 1 moves.\n"
     ]
    }
   ],
   "source": [
    "openings = []\n",
    "counters = []\n",
    "for i in data:\n",
    "    partition = i[\"opening_name\"].split(\":\")\n",
    "    new = True\n",
    "    for j in range(len(openings)):\n",
    "        if openings[j] == partition[0]:\n",
    "            counters[j] += 1\n",
    "            new = False\n",
    "            break\n",
    "    if new:\n",
    "        openings.append(partition[0])\n",
    "        counters.append(1)\n",
    "most_moves = int(data[0][\"opening_ply\"])\n",
    "most_name = data[0][\"opening_name\"]\n",
    "least_moves = int(data[0][\"opening_ply\"])\n",
    "least_name = data[0][\"opening_name\"]\n",
    "for i in data:\n",
    "    if int(i[\"opening_ply\"]) > most_moves:\n",
    "        most_moves = int(i[\"opening_ply\"])\n",
    "        most_name = i[\"opening_name\"]\n",
    "    elif int(i[\"opening_ply\"]) < least_moves:\n",
    "        least_moves = int(i[\"opening_ply\"])\n",
    "        least_name = i[\"opening_name\"]\n",
    "big_3 = []\n",
    "big_3_counter = []\n",
    "for i in range(3):\n",
    "    biggest = counters[0];\n",
    "    biggest_index = 0;\n",
    "    for i in range(1, len(counters)):\n",
    "        if counters[i] > biggest:\n",
    "            biggest = counters[i]\n",
    "            biggest_index = i\n",
    "    big_3_counter.append(counters[biggest_index])\n",
    "    big_3.append(openings[biggest_index])\n",
    "    openings.pop(biggest_index)\n",
    "    counters.pop(biggest_index)\n",
    "top_3 = tuple(zip(big_3, big_3_counter))\n",
    "message = \"The top 3 openings played are: \\n\"\n",
    "for i in range(3):\n",
    "    message += \"\\t\" + str(i+1) + \". The \" + str(top_3[i][0]) + \", played \" + str(top_3[i][1]) + \" times.\\n\"\n",
    "print(message)\n",
    "print(\"The opening with the most moves is the \" + most_name + \" with \" + str(most_moves) + \" moves.\")\n",
    "print(\"The opening with the least moves is the \" + least_name + \" with \" + str(least_moves) + \" moves.\")"
   ]
  },
  {
   "cell_type": "markdown",
   "id": "cad61594",
   "metadata": {},
   "source": [
    "## <span style=\"color:blue\"> Closing Questions:</span>\n",
    ">**Why did you choose this dataset over others?**<br>\n",
    ">>The main reason why we choose this dataset over others was because the dataset is on a topic that we found interesting. This combined with the fact that the dataset contains 20058 points of data with 16 attributes, makes it a very useful dataset for analysis. Another reason we choose to do a dataset on chess rather than something else is the value of data analysis in something as complex as chess. In chess, there is more variation the more moves you make, because of this it is easy to see which moves are better earlier on.\n",
    "\n",
    ">**Was there any other dataset you also found interesting?**<br>\n",
    ">>One dataset that was of interest was about mushrooms. This dataset could've been analyzed to determine what features are common to poisonous and non-poisonous mushrooms. This dataset could help determine the defining differences  and similarities between poisonous and non-poisonous mushrooms, which would allow for faster and more accurate recognition of such mushrooms. This would be beneficial to applications in healthcare, and more specifically, the study of toxicology.<br>\n",
    ">>>Link to dataset: https://www.kaggle.com/uciml/mushroom-classification\n",
    "\n",
    ">>Another dataset that looked interesting was one about predicting the level of solar radiation at a given time. This dataset would be very useful in giving insight into how the levels of solar radiation vary depending of certain external factors, such as wind, humidity and barometric pressure. This data can be used to predict the level of solar radiation based on the attributes listed in the dataset. This would be helpful to the world of environmental science, as it could allow for better insight into the trends of solar radiation and how it affects us.<br>\n",
    ">>>Link to dataset: https://www.kaggle.com/anikannal/solar-power-generation-data\n",
    "\n",
    ">**What are the data analysis questions you want to use this dataset for?**<br>\n",
    ">>1. Are the chances of winning the game greater if you are playing white? If so, why is that?\n",
    "\n",
    ">>2. Does the number of moves affect the outcome of the game? If the number of moves played goes over the average number of moves, what is the most likely outcome of the match? What if the number of moves is below average?\n",
    "\n",
    ">>3. How do the following victory statuses correlate with rating? Find the correlation coefficient and determine whether the relationship is strong/weak and positive/negative. What conclusions can be drawn from the data collected?<br>\n",
    ">>  a) Checkmate<br>\n",
    ">>  b) Resignation<br>\n",
    ">>  c) Timeout <br>\n",
    "\n",
    ">>4. List the top 5 highest win rate openings, what are their win rates? Do their win rates vary depending on piece colour? List the top 5 players that use the combination of these openings the most, what are their win rates and rating? What conclusions can be drawn from the data collected? \n",
    "\n",
    ">>5. What is the relationship between the least and most common chess openings and their play rates? Does the trend indicate increasing or decreasing volatility in victory results? What conclusions can be drawn from the data collected?\n",
    "\n",
    ">**What methods do you expect to apply when you process the data to answer these questions?**<br>\n",
    ">>Question 1)<br>\n",
    ">>We must first look at how many games were won by white. Depending on if white won the majority of games (which just so happens to be the case), we can look at the different attributes of the games in question and draw a conclusion. With this information, we can gain better insight into what factors make a winning game and how they individually affect the outcome.\n",
    "\n",
    ">>Question 2)<br>\n",
    ">>We must first calculate the average of total moves. We can then sort the rounds games into 3 subsets. A subset of games that have: more moves than average, fewer moves than average, and lastly the average number of moves. Using this information, we can then analyze the attributes of each game in all 3 subsets to see if a correlation exists between the number of moves and the outcome of the game. \n",
    "\n",
    ">>Question 3)<br>\n",
    ">>First, we will create a list of ratings and sort the ratings in ascending order. For each of the victory statuses, we will then check how each status increases/decreases as we iterate through the list. Next we will find the Correlation Coefficient between each of the victory statuses and their rating. Finally, determine if the coefficient is strong/weak (strong being closer to 1, weak being closer to 0), and whether it is positive/negative to indicate their increasing/decreasing trend.\n",
    "\n",
    ">>Question 4)<br>\n",
    ">>We will begin with creating a list of each opening, sort the list of by win rate in descending order. Now for each of the top 5 openings, check their win rates on each colour. In the next part we will create a list of each player, sort the list of players by percentage of openers in the list of top 5, and for each of the top 5 players in this list, check their win rates and rating.\n",
    "\n",
    ">>Question 5)<br>\n",
    ">>Beginning with a list of each opening, we will sort the list by how common it is in ascending order, then check how each openings draw rates increase/decrease as you iterate through the list. Finally, we will check how each openings victory/defeat rates increase/decrease as we iterate through the list.\n",
    "\n",
    ">**Do you see any potential for data science applications using this data?**<br>\n",
    ">>Using this dataset provides a lot of potential for data science applications since the topic is on chess games. Gathering data from these chess games can provide predictions on the outcome of games depending on certain factors such as opening moves or which player starts first. Additionally, recommendations can be given to provide a statistically better chance of winning future chess games."
   ]
  },
  {
   "cell_type": "code",
   "execution_count": null,
   "id": "ac83b3af",
   "metadata": {},
   "outputs": [],
   "source": []
  }
 ],
 "metadata": {
  "kernelspec": {
   "display_name": "Python 3 (ipykernel)",
   "language": "python",
   "name": "python3"
  },
  "language_info": {
   "codemirror_mode": {
    "name": "ipython",
    "version": 3
   },
   "file_extension": ".py",
   "mimetype": "text/x-python",
   "name": "python",
   "nbconvert_exporter": "python",
   "pygments_lexer": "ipython3",
   "version": "3.8.12"
  }
 },
 "nbformat": 4,
 "nbformat_minor": 5
}
